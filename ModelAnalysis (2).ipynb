{
  "nbformat": 4,
  "nbformat_minor": 0,
  "metadata": {
    "colab": {
      "provenance": []
    },
    "kernelspec": {
      "name": "python3",
      "display_name": "Python 3"
    },
    "language_info": {
      "name": "python"
    }
  },
  "cells": [
    {
      "cell_type": "markdown",
      "source": [
        "## La Quinila - Machine Learning Model:\n",
        "In this project, we will create a model that predicts the results of La Liga football game.  \n",
        "\n",
        "We used the historical data from the previous La Liga matches to train this model and then we will use these trained data in order to predicting the results of the 2020-2021 matches and then compare our prediction with the real data we have to calculate the accuracy of our model.\n",
        "\n",
        "Since we are trying to predict results, we have an output is either X for tie, 1 for home_team and 2 for away_team in case they won, this means that we have a discrete output, which means it is better to use classification.\n",
        "\n",
        "Knowing this, we chose Random Forest classification for building our model using the name of the home team, away team and their rankings to predict the results.\n",
        "\n",
        "I will share step by step, the work we have done here in order to calculate accuracy."
      ],
      "metadata": {
        "id": "Iv-Q-9RJ6eTM"
      }
    },
    {
      "cell_type": "markdown",
      "source": [
        "**1- Importing the needed Libraries:**\n",
        "we imported the most important and only needed libraries to make sure our code will work correctly without errors\n",
        "\n",
        "Here we have used the Machine Learning library SciKitLearn to be able to use the methods required for our model to work perfectly, our classifier is Random Forest Classifier"
      ],
      "metadata": {
        "id": "OUw9_Nxo7Ft4"
      }
    },
    {
      "cell_type": "code",
      "execution_count": 54,
      "metadata": {
        "id": "vrezf9iPa2aK"
      },
      "outputs": [],
      "source": [
        "import numpy as np\n",
        "import pandas as pd\n",
        "import matplotlib.pyplot as plt\n",
        "from sklearn.ensemble import RandomForestRegressor\n",
        "import sqlite3\n",
        "import math\n",
        "import warnings\n",
        "warnings.filterwarnings(\"ignore\")"
      ]
    },
    {
      "cell_type": "markdown",
      "source": [
        "**This is only to create a data frame using Pandas from the database provided**"
      ],
      "metadata": {
        "id": "FIPTMerP7zxM"
      }
    },
    {
      "cell_type": "code",
      "source": [
        "con = sqlite3.connect(\"laliga.sqlite\")\n",
        "df = pd.read_sql_query(\"SELECT * FROM Matches\", con)\n",
        "con.close()"
      ],
      "metadata": {
        "id": "aztRb81aa4-q"
      },
      "execution_count": 55,
      "outputs": []
    },
    {
      "cell_type": "markdown",
      "source": [
        "**2- Data Cleaning and Manipulation:**\n",
        "In this step, we have tried to create columns that will help us organize the work by perofrming some data cleaning by dropping NA values, creating a columns to calculate Winning team and losing team in each match day along with calculating the points in this game, and help to identify the features, and the target for us  which are important in the process of creating the model and will help us to calculate the accuracy of our model.\n"
      ],
      "metadata": {
        "id": "Gt4EuD_J8IyD"
      }
    },
    {
      "cell_type": "markdown",
      "source": [
        "In the first step, we calculated for each match day, the winner team, and the loser team and we managed to remove the unwanted NA values here"
      ],
      "metadata": {
        "id": "X8Z797Sj9o8S"
      }
    },
    {
      "cell_type": "code",
      "source": [
        "df.dropna(inplace = True)\n",
        "df[\"home_score\"] = df.apply(lambda x: int(x[\"score\"].split(\":\")[0]), axis = 1)\n",
        "df[\"away_score\"] = df.apply(lambda x: int(x[\"score\"].split(\":\")[1]), axis = 1)\n",
        "df[\"winner_team\"] = df.apply(lambda x : x[\"home_team\"] if(x[\"home_score\"] > x[\"away_score\"]) else (x[\"away_team\"] if(x[\"home_score\"] < x[\"away_score\"]) else \"NaN\"), axis = 1)\n",
        "df[\"loser_team\"] = df.apply(lambda x : x[\"home_team\"] if(x[\"home_score\"] < x[\"away_score\"]) else (x[\"away_team\"] if(x[\"home_score\"] > x[\"away_score\"]) else \"NaN\"), axis = 1)\n",
        "df_home_team = df.copy()\n",
        "df_home_team['team'] = df['home_team']\n",
        "df_away_team = df.copy()\n",
        "df_away_team['team'] = df['away_team']"
      ],
      "metadata": {
        "id": "0ScJgqzS9jgj"
      },
      "execution_count": 56,
      "outputs": []
    },
    {
      "cell_type": "markdown",
      "source": [
        "After this, we calculated the Rank, the points for each team and removed the unwanted data and kept the necessary columns we will use in our model."
      ],
      "metadata": {
        "id": "Vi0V9UuH93tA"
      }
    },
    {
      "cell_type": "code",
      "source": [
        "df_total = pd.concat([df_home_team,df_away_team])\n",
        "df_total = df_total.sort_values(by = ['season', 'division', 'matchday', 'score'])\n",
        "df_total['W'] = df_total.apply(lambda x : 1 if x['winner_team'] == x['team'] else 0, axis = 1)\n",
        "df_total['T'] = df_total.apply(lambda x : 1 if x['loser_team'] == 'NaN' else 0, axis = 1)\n",
        "df_total['W'] = df_total.groupby(['season', 'division', 'team'])['W'].cumsum()\n",
        "df_total['T'] = df_total.groupby(['season', 'division', 'team'])['T'].cumsum()\n",
        "df_total['Pts'] = 3 * df_total['W'] + df_total['T']\n",
        "df_total['rank'] = df_total.groupby(['division','season','matchday'])['Pts'].rank(method = 'min', ascending=False)\n",
        "df_total = df_total.sort_index()\n",
        "df_total_home_team = df_total.loc[df_total['home_team'] == df_total['team']]\n",
        "df_total_away_team = df_total.loc[df_total['away_team'] == df_total['team']]\n",
        "df['home_team_rank'] = df_total_home_team['rank']\n",
        "df['away_team_rank'] = df_total_away_team['rank']\n",
        "df.drop(columns = ['winner_team', 'loser_team'], inplace = True)\n",
        "df.drop(columns = ['home_score', 'away_score'], inplace = True) "
      ],
      "metadata": {
        "id": "J0lINEUybD6M"
      },
      "execution_count": 57,
      "outputs": []
    },
    {
      "cell_type": "markdown",
      "source": [
        "After we have organized and reordered our data a bit, we will check our work to make sure it looks exactly like what we need, we need each team, their rankings, the match details and the score, as shown below:"
      ],
      "metadata": {
        "id": "51Qduk6S8zHZ"
      }
    },
    {
      "cell_type": "code",
      "source": [
        "df"
      ],
      "metadata": {
        "colab": {
          "base_uri": "https://localhost:8080/",
          "height": 424
        },
        "id": "Ec_AbiV8bGiD",
        "outputId": "6a4e2be5-0835-44a0-deb0-1416c3127578"
      },
      "execution_count": 58,
      "outputs": [
        {
          "output_type": "execute_result",
          "data": {
            "text/plain": [
              "          season  division  matchday     date      time        home_team  \\\n",
              "16024  1995-1996         1         1   9/3/95   7:30 PM        CP Mérida   \n",
              "17318  1998-1999         1         1  8/29/98   9:00 PM           Alavés   \n",
              "17319  1998-1999         1         1  8/29/98  10:00 PM         Valencia   \n",
              "17320  1998-1999         1         1  8/30/98   7:00 PM    Celta de Vigo   \n",
              "17321  1998-1999         1         1  8/30/98   7:00 PM    Real Sociedad   \n",
              "...          ...       ...       ...      ...       ...              ...   \n",
              "48585  2021-2022         2         3  8/28/21  10:00 PM     Ponferradina   \n",
              "48586  2021-2022         2         3  8/29/21   5:00 PM    SD Amorebieta   \n",
              "48587  2021-2022         2         3  8/29/21   7:30 PM          CD Lugo   \n",
              "48588  2021-2022         2         3  8/29/21   7:30 PM  Real Sociedad B   \n",
              "48589  2021-2022         2         3  8/29/21  10:00 PM        Burgos CF   \n",
              "\n",
              "             away_team score  home_team_rank  away_team_rank  \n",
              "16024       Real Betis   1:1             1.0             1.0  \n",
              "17318       Real Betis   0:0             5.0             5.0  \n",
              "17319  Atlético Madrid   1:0             1.0            17.0  \n",
              "17320   Dep. La Coruña   0:0             5.0             5.0  \n",
              "17321      Real Oviedo   3:3             5.0             5.0  \n",
              "...                ...   ...             ...             ...  \n",
              "48585           Girona   2:1             1.0            11.0  \n",
              "48586       UD Almería   2:1            14.0             4.0  \n",
              "48587  Real Valladolid   0:2            16.0             2.0  \n",
              "48588   CF Fuenlabrada   0:0             6.0            11.0  \n",
              "48589         SD Eibar   0:1            18.0            14.0  \n",
              "\n",
              "[16697 rows x 10 columns]"
            ],
            "text/html": [
              "\n",
              "  <div id=\"df-291245d0-0e4e-4676-991e-219b8e452658\">\n",
              "    <div class=\"colab-df-container\">\n",
              "      <div>\n",
              "<style scoped>\n",
              "    .dataframe tbody tr th:only-of-type {\n",
              "        vertical-align: middle;\n",
              "    }\n",
              "\n",
              "    .dataframe tbody tr th {\n",
              "        vertical-align: top;\n",
              "    }\n",
              "\n",
              "    .dataframe thead th {\n",
              "        text-align: right;\n",
              "    }\n",
              "</style>\n",
              "<table border=\"1\" class=\"dataframe\">\n",
              "  <thead>\n",
              "    <tr style=\"text-align: right;\">\n",
              "      <th></th>\n",
              "      <th>season</th>\n",
              "      <th>division</th>\n",
              "      <th>matchday</th>\n",
              "      <th>date</th>\n",
              "      <th>time</th>\n",
              "      <th>home_team</th>\n",
              "      <th>away_team</th>\n",
              "      <th>score</th>\n",
              "      <th>home_team_rank</th>\n",
              "      <th>away_team_rank</th>\n",
              "    </tr>\n",
              "  </thead>\n",
              "  <tbody>\n",
              "    <tr>\n",
              "      <th>16024</th>\n",
              "      <td>1995-1996</td>\n",
              "      <td>1</td>\n",
              "      <td>1</td>\n",
              "      <td>9/3/95</td>\n",
              "      <td>7:30 PM</td>\n",
              "      <td>CP Mérida</td>\n",
              "      <td>Real Betis</td>\n",
              "      <td>1:1</td>\n",
              "      <td>1.0</td>\n",
              "      <td>1.0</td>\n",
              "    </tr>\n",
              "    <tr>\n",
              "      <th>17318</th>\n",
              "      <td>1998-1999</td>\n",
              "      <td>1</td>\n",
              "      <td>1</td>\n",
              "      <td>8/29/98</td>\n",
              "      <td>9:00 PM</td>\n",
              "      <td>Alavés</td>\n",
              "      <td>Real Betis</td>\n",
              "      <td>0:0</td>\n",
              "      <td>5.0</td>\n",
              "      <td>5.0</td>\n",
              "    </tr>\n",
              "    <tr>\n",
              "      <th>17319</th>\n",
              "      <td>1998-1999</td>\n",
              "      <td>1</td>\n",
              "      <td>1</td>\n",
              "      <td>8/29/98</td>\n",
              "      <td>10:00 PM</td>\n",
              "      <td>Valencia</td>\n",
              "      <td>Atlético Madrid</td>\n",
              "      <td>1:0</td>\n",
              "      <td>1.0</td>\n",
              "      <td>17.0</td>\n",
              "    </tr>\n",
              "    <tr>\n",
              "      <th>17320</th>\n",
              "      <td>1998-1999</td>\n",
              "      <td>1</td>\n",
              "      <td>1</td>\n",
              "      <td>8/30/98</td>\n",
              "      <td>7:00 PM</td>\n",
              "      <td>Celta de Vigo</td>\n",
              "      <td>Dep. La Coruña</td>\n",
              "      <td>0:0</td>\n",
              "      <td>5.0</td>\n",
              "      <td>5.0</td>\n",
              "    </tr>\n",
              "    <tr>\n",
              "      <th>17321</th>\n",
              "      <td>1998-1999</td>\n",
              "      <td>1</td>\n",
              "      <td>1</td>\n",
              "      <td>8/30/98</td>\n",
              "      <td>7:00 PM</td>\n",
              "      <td>Real Sociedad</td>\n",
              "      <td>Real Oviedo</td>\n",
              "      <td>3:3</td>\n",
              "      <td>5.0</td>\n",
              "      <td>5.0</td>\n",
              "    </tr>\n",
              "    <tr>\n",
              "      <th>...</th>\n",
              "      <td>...</td>\n",
              "      <td>...</td>\n",
              "      <td>...</td>\n",
              "      <td>...</td>\n",
              "      <td>...</td>\n",
              "      <td>...</td>\n",
              "      <td>...</td>\n",
              "      <td>...</td>\n",
              "      <td>...</td>\n",
              "      <td>...</td>\n",
              "    </tr>\n",
              "    <tr>\n",
              "      <th>48585</th>\n",
              "      <td>2021-2022</td>\n",
              "      <td>2</td>\n",
              "      <td>3</td>\n",
              "      <td>8/28/21</td>\n",
              "      <td>10:00 PM</td>\n",
              "      <td>Ponferradina</td>\n",
              "      <td>Girona</td>\n",
              "      <td>2:1</td>\n",
              "      <td>1.0</td>\n",
              "      <td>11.0</td>\n",
              "    </tr>\n",
              "    <tr>\n",
              "      <th>48586</th>\n",
              "      <td>2021-2022</td>\n",
              "      <td>2</td>\n",
              "      <td>3</td>\n",
              "      <td>8/29/21</td>\n",
              "      <td>5:00 PM</td>\n",
              "      <td>SD Amorebieta</td>\n",
              "      <td>UD Almería</td>\n",
              "      <td>2:1</td>\n",
              "      <td>14.0</td>\n",
              "      <td>4.0</td>\n",
              "    </tr>\n",
              "    <tr>\n",
              "      <th>48587</th>\n",
              "      <td>2021-2022</td>\n",
              "      <td>2</td>\n",
              "      <td>3</td>\n",
              "      <td>8/29/21</td>\n",
              "      <td>7:30 PM</td>\n",
              "      <td>CD Lugo</td>\n",
              "      <td>Real Valladolid</td>\n",
              "      <td>0:2</td>\n",
              "      <td>16.0</td>\n",
              "      <td>2.0</td>\n",
              "    </tr>\n",
              "    <tr>\n",
              "      <th>48588</th>\n",
              "      <td>2021-2022</td>\n",
              "      <td>2</td>\n",
              "      <td>3</td>\n",
              "      <td>8/29/21</td>\n",
              "      <td>7:30 PM</td>\n",
              "      <td>Real Sociedad B</td>\n",
              "      <td>CF Fuenlabrada</td>\n",
              "      <td>0:0</td>\n",
              "      <td>6.0</td>\n",
              "      <td>11.0</td>\n",
              "    </tr>\n",
              "    <tr>\n",
              "      <th>48589</th>\n",
              "      <td>2021-2022</td>\n",
              "      <td>2</td>\n",
              "      <td>3</td>\n",
              "      <td>8/29/21</td>\n",
              "      <td>10:00 PM</td>\n",
              "      <td>Burgos CF</td>\n",
              "      <td>SD Eibar</td>\n",
              "      <td>0:1</td>\n",
              "      <td>18.0</td>\n",
              "      <td>14.0</td>\n",
              "    </tr>\n",
              "  </tbody>\n",
              "</table>\n",
              "<p>16697 rows × 10 columns</p>\n",
              "</div>\n",
              "      <button class=\"colab-df-convert\" onclick=\"convertToInteractive('df-291245d0-0e4e-4676-991e-219b8e452658')\"\n",
              "              title=\"Convert this dataframe to an interactive table.\"\n",
              "              style=\"display:none;\">\n",
              "        \n",
              "  <svg xmlns=\"http://www.w3.org/2000/svg\" height=\"24px\"viewBox=\"0 0 24 24\"\n",
              "       width=\"24px\">\n",
              "    <path d=\"M0 0h24v24H0V0z\" fill=\"none\"/>\n",
              "    <path d=\"M18.56 5.44l.94 2.06.94-2.06 2.06-.94-2.06-.94-.94-2.06-.94 2.06-2.06.94zm-11 1L8.5 8.5l.94-2.06 2.06-.94-2.06-.94L8.5 2.5l-.94 2.06-2.06.94zm10 10l.94 2.06.94-2.06 2.06-.94-2.06-.94-.94-2.06-.94 2.06-2.06.94z\"/><path d=\"M17.41 7.96l-1.37-1.37c-.4-.4-.92-.59-1.43-.59-.52 0-1.04.2-1.43.59L10.3 9.45l-7.72 7.72c-.78.78-.78 2.05 0 2.83L4 21.41c.39.39.9.59 1.41.59.51 0 1.02-.2 1.41-.59l7.78-7.78 2.81-2.81c.8-.78.8-2.07 0-2.86zM5.41 20L4 18.59l7.72-7.72 1.47 1.35L5.41 20z\"/>\n",
              "  </svg>\n",
              "      </button>\n",
              "      \n",
              "  <style>\n",
              "    .colab-df-container {\n",
              "      display:flex;\n",
              "      flex-wrap:wrap;\n",
              "      gap: 12px;\n",
              "    }\n",
              "\n",
              "    .colab-df-convert {\n",
              "      background-color: #E8F0FE;\n",
              "      border: none;\n",
              "      border-radius: 50%;\n",
              "      cursor: pointer;\n",
              "      display: none;\n",
              "      fill: #1967D2;\n",
              "      height: 32px;\n",
              "      padding: 0 0 0 0;\n",
              "      width: 32px;\n",
              "    }\n",
              "\n",
              "    .colab-df-convert:hover {\n",
              "      background-color: #E2EBFA;\n",
              "      box-shadow: 0px 1px 2px rgba(60, 64, 67, 0.3), 0px 1px 3px 1px rgba(60, 64, 67, 0.15);\n",
              "      fill: #174EA6;\n",
              "    }\n",
              "\n",
              "    [theme=dark] .colab-df-convert {\n",
              "      background-color: #3B4455;\n",
              "      fill: #D2E3FC;\n",
              "    }\n",
              "\n",
              "    [theme=dark] .colab-df-convert:hover {\n",
              "      background-color: #434B5C;\n",
              "      box-shadow: 0px 1px 3px 1px rgba(0, 0, 0, 0.15);\n",
              "      filter: drop-shadow(0px 1px 2px rgba(0, 0, 0, 0.3));\n",
              "      fill: #FFFFFF;\n",
              "    }\n",
              "  </style>\n",
              "\n",
              "      <script>\n",
              "        const buttonEl =\n",
              "          document.querySelector('#df-291245d0-0e4e-4676-991e-219b8e452658 button.colab-df-convert');\n",
              "        buttonEl.style.display =\n",
              "          google.colab.kernel.accessAllowed ? 'block' : 'none';\n",
              "\n",
              "        async function convertToInteractive(key) {\n",
              "          const element = document.querySelector('#df-291245d0-0e4e-4676-991e-219b8e452658');\n",
              "          const dataTable =\n",
              "            await google.colab.kernel.invokeFunction('convertToInteractive',\n",
              "                                                     [key], {});\n",
              "          if (!dataTable) return;\n",
              "\n",
              "          const docLinkHtml = 'Like what you see? Visit the ' +\n",
              "            '<a target=\"_blank\" href=https://colab.research.google.com/notebooks/data_table.ipynb>data table notebook</a>'\n",
              "            + ' to learn more about interactive tables.';\n",
              "          element.innerHTML = '';\n",
              "          dataTable['output_type'] = 'display_data';\n",
              "          await google.colab.output.renderOutput(dataTable, element);\n",
              "          const docLink = document.createElement('div');\n",
              "          docLink.innerHTML = docLinkHtml;\n",
              "          element.appendChild(docLink);\n",
              "        }\n",
              "      </script>\n",
              "    </div>\n",
              "  </div>\n",
              "  "
            ]
          },
          "metadata": {},
          "execution_count": 58
        }
      ]
    },
    {
      "cell_type": "markdown",
      "source": [
        "After managing to organize the data a bit, just to make sure that our data is clean, we will also use the dropna to make sure that we do not have any null values, and to make our model clearer, we created using numpy a new column in our data frame that calculates the winner of each game."
      ],
      "metadata": {
        "id": "smsZ1aqblbm7"
      }
    },
    {
      "cell_type": "code",
      "source": [
        "df = df.dropna()\n",
        "df['winner'] = df['score'].str.split(':').str[0].astype(int) - df['score'].str.split(':').str[1].astype(int)\n",
        "df['winner'] = np.where(df['winner'] > 0, 0, np.where(df['winner'] < 0, 2, 1))"
      ],
      "metadata": {
        "id": "vO3A2SAObJVx"
      },
      "execution_count": 59,
      "outputs": []
    },
    {
      "cell_type": "markdown",
      "source": [
        "In order to make it easier to deal with the teams participating in the Spanish Football Laliga, referring to each team by a number and using numerical data,makes calculations easier than dealing with other type of data, and here we have the number assigned to each team "
      ],
      "metadata": {
        "id": "Vfbv8oUjjusH"
      }
    },
    {
      "cell_type": "code",
      "source": [
        "teams = [df['home_team'].unique()]"
      ],
      "metadata": {
        "id": "W1eLrdRfjV1k"
      },
      "execution_count": 60,
      "outputs": []
    },
    {
      "cell_type": "markdown",
      "source": [
        "For better performance, and good practice, we will use a dictionary to put our teams in it and next to it the number assigned to each team\n",
        "\n",
        "\n",
        "\n"
      ],
      "metadata": {
        "id": "b5BQ3hI8kNgf"
      }
    },
    {
      "cell_type": "code",
      "source": [
        "teams = teams[0].tolist()\n",
        "teams_dict = {}\n",
        "for i in range(len(teams)):\n",
        "    teams_dict[teams[i]] = i"
      ],
      "metadata": {
        "id": "BYPbWnS9jtKz"
      },
      "execution_count": 61,
      "outputs": []
    },
    {
      "cell_type": "markdown",
      "source": [
        "So for now, we will be having the each team with a number (an index) assigned to it:"
      ],
      "metadata": {
        "id": "Px_Mxsd2k2ML"
      }
    },
    {
      "cell_type": "code",
      "source": [
        "df['home_team_number'] = df['home_team'].map(teams_dict)\n",
        "df['away_team_number'] = df['away_team'].map(teams_dict)"
      ],
      "metadata": {
        "id": "Vh7IuBBtbPml"
      },
      "execution_count": 62,
      "outputs": []
    },
    {
      "cell_type": "markdown",
      "source": [
        "**2- Choosing the training Data for our Random Forest Model**:\n",
        "In this step, we will use the data from the matches provided in Division 1 to train our data for all the matches that were before 2020-2021 and use the Random Forest Regressor method from SciKit Learn to create our model "
      ],
      "metadata": {
        "id": "UbAermawmAo1"
      }
    },
    {
      "cell_type": "code",
      "source": [
        "train_data_D1 = df[(df['season'] < '2020-2021') & (df['division'] == 1)] \n",
        "random_forest_model_D1= RandomForestRegressor(random_state=100, n_estimators=100)"
      ],
      "metadata": {
        "id": "MLXGiyp8bSla"
      },
      "execution_count": 63,
      "outputs": []
    },
    {
      "cell_type": "markdown",
      "source": [
        "**3- Choosing Target and Features for our model**:\n",
        "In our model, using numerical data, we will rely on the home team number, the away team number, the home team and the away team rankings as our features, and we will use the winner of the match as our target"
      ],
      "metadata": {
        "id": "jFEF8TI7mU_p"
      }
    },
    {
      "cell_type": "code",
      "source": [
        "X_train_D1= train_data_D1[['home_team_number', 'away_team_number', 'home_team_rank', 'away_team_rank']]\n",
        "Y_train_D1= train_data_D1['winner']"
      ],
      "metadata": {
        "id": "FKVBSb7JmQpr"
      },
      "execution_count": 64,
      "outputs": []
    },
    {
      "cell_type": "markdown",
      "source": [
        "Fitting the model using the model.fit() method"
      ],
      "metadata": {
        "id": "M3zpci0nm01i"
      }
    },
    {
      "cell_type": "code",
      "source": [
        "random_forest_model_D1.fit(X_train_D1, Y_train_D1)"
      ],
      "metadata": {
        "colab": {
          "base_uri": "https://localhost:8080/"
        },
        "id": "g9GyvUpbmyR7",
        "outputId": "dc6c4e53-5cf0-4044-95c3-0062a3971cc5"
      },
      "execution_count": 65,
      "outputs": [
        {
          "output_type": "execute_result",
          "data": {
            "text/plain": [
              "RandomForestRegressor(random_state=100)"
            ]
          },
          "metadata": {},
          "execution_count": 65
        }
      ]
    },
    {
      "cell_type": "markdown",
      "source": [
        "**4-Testing our model**:\n",
        "\n",
        "In the previous step, we tried to create a model using Random Forest classifier, and we trained the model on a previous historical data from old matches before 2020, so for now, we will try to test our model and calculate the winner and the results for our data and matches after 2020, and based on the real data we have , and what this model will predict, we will compare these two results and calculate the accuracy of our model."
      ],
      "metadata": {
        "id": "aNjABNX8m9SE"
      }
    },
    {
      "cell_type": "code",
      "source": [
        "df_20_21_D1 = df[(df['season'] == '2020-2021') & (df['division'] == 1)]"
      ],
      "metadata": {
        "id": "hITRQUG1nVzY"
      },
      "execution_count": 66,
      "outputs": []
    },
    {
      "cell_type": "code",
      "source": [
        "test_20_21_D1 = df_20_21_D1[['home_team_number', 'away_team_number', 'home_team_rank', 'away_team_rank']]"
      ],
      "metadata": {
        "id": "nY76rZYCny71"
      },
      "execution_count": 67,
      "outputs": []
    },
    {
      "cell_type": "markdown",
      "source": [
        "We will create here a new column, that will show us the predictions for each game"
      ],
      "metadata": {
        "id": "5RcrbrXNCVC0"
      }
    },
    {
      "cell_type": "code",
      "source": [
        "df_20_21_D1['winning_prediction'] = random_forest_model_D1.predict(test_20_21_D1).astype(int)"
      ],
      "metadata": {
        "id": "fgH3kGkpn7a8"
      },
      "execution_count": 68,
      "outputs": []
    },
    {
      "cell_type": "markdown",
      "source": [
        "Calculating the accuracy here, as we can see, we are comparing the winner column which contains the real data from the matches that happened after 2020, compared with the winning prediction column that contains the predictions of our tested data\n",
        "\n",
        "Accuracy is the sum of matched cells in these two columns and divided by the number of the rows (number of the matches in this division)"
      ],
      "metadata": {
        "id": "iY6itJNeCizq"
      }
    },
    {
      "cell_type": "code",
      "source": [
        "accuracy_20_21_D1 = (df_20_21_D1['winner'] == df_20_21_D1['winning_prediction']).sum() / len(df_20_21_D1)\n",
        "\n",
        "print(f'The calculated accuracy of this model  to predict the winner in first division games for the 2020-2021 season is: {round(accuracy_20_21_D1,2)*100}%')"
      ],
      "metadata": {
        "colab": {
          "base_uri": "https://localhost:8080/"
        },
        "id": "Wc9DDN-KbVMz",
        "outputId": "32fc130f-69c3-44e6-d792-24a88a9e9857"
      },
      "execution_count": 69,
      "outputs": [
        {
          "output_type": "stream",
          "name": "stdout",
          "text": [
            "The calculated accuracy of this model  to predict the winner in first division games for the 2020-2021 season is: 42.0%\n"
          ]
        }
      ]
    },
    {
      "cell_type": "markdown",
      "source": [
        "**Training the rest of our dataset**\n",
        "at the begininng, we used historical data from division1, before 2020 to train our data, and then used the data in division 1 , after 2020, to test the accuracy of this data, and since it worked on the first division, we need to continue and take the second division into consideration and apply the Random Forest classifier on this part of data, so we can have full accuracy, along with the full prediction which we need.\n"
      ],
      "metadata": {
        "id": "pdw6BY3BDFt1"
      }
    },
    {
      "cell_type": "markdown",
      "source": [
        "we will use the same method we needed to train our data in division1, we will use all historical data before 2020 and then create the model we need Using RandomForestRegressor method from SciKitLearn Library"
      ],
      "metadata": {
        "id": "yNnBfS6vER6P"
      }
    },
    {
      "cell_type": "code",
      "source": [
        "train_data_D2 = df[(df['season'] < '2020-2021') & (df['division'] == 2)] \n",
        "random_forest_model_D2 = RandomForestRegressor(random_state=100, n_estimators=100)"
      ],
      "metadata": {
        "id": "cpqbdVCubXEn"
      },
      "execution_count": 70,
      "outputs": []
    },
    {
      "cell_type": "markdown",
      "source": [
        "We will create the Training data, for the desired output, we shall also use the same important columns which are , the hometeam and away team number which refer to their names as well, along with their rankings"
      ],
      "metadata": {
        "id": "DriIcBHgEsYR"
      }
    },
    {
      "cell_type": "code",
      "source": [
        "X_train_D2 = train_data_D2[['home_team_number', 'away_team_number', 'home_team_rank', 'away_team_rank']]\n",
        "Y_train_D2 = train_data_D2['winner']"
      ],
      "metadata": {
        "id": "4CITQssEEL3-"
      },
      "execution_count": 71,
      "outputs": []
    },
    {
      "cell_type": "markdown",
      "source": [
        "Fitting the trained data, in order to get a good prediction"
      ],
      "metadata": {
        "id": "g8AIImENE96w"
      }
    },
    {
      "cell_type": "code",
      "source": [
        "random_forest_model_D2.fit(X_train_D2, Y_train_D2)"
      ],
      "metadata": {
        "colab": {
          "base_uri": "https://localhost:8080/"
        },
        "id": "9_MLhXM8EMkS",
        "outputId": "4d135625-93cb-4024-c926-d1e382d1cb4f"
      },
      "execution_count": 72,
      "outputs": [
        {
          "output_type": "execute_result",
          "data": {
            "text/plain": [
              "RandomForestRegressor(random_state=100)"
            ]
          },
          "metadata": {},
          "execution_count": 72
        }
      ]
    },
    {
      "cell_type": "markdown",
      "source": [
        "As we did in the first division, here we will also test the data that are in 2020-2021 and in division 2 and compare the actual data results of winners with the prediction of winners, and calculate the accuracy by calculating the sum of the number of correct/accurate predictions and then dividing that on the number of all matches in division 2"
      ],
      "metadata": {
        "id": "00QlFaMFFElL"
      }
    },
    {
      "cell_type": "code",
      "source": [
        "df_20_21_D2 = df[(df['season'] == '2020-2021') & (df['division'] == 2)]\n",
        "test_20_21_D2 = df_20_21_D2[['home_team_number', 'away_team_number', 'home_team_rank', 'away_team_rank']]\n",
        "df_20_21_D2['winning_prediction'] = random_forest_model_D2.predict(test_20_21_D2).astype(int)\n",
        "accuracy_20_21_D2 = (df_20_21_D2['winner'] == df_20_21_D2['winning_prediction']).sum() / len(df_20_21_D2)\n",
        "\n",
        "print(f'The calculated accuracy of this model  to predict the winner in second division games for the 2020-2021 season is: {round(accuracy_20_21_D2,2)*100}%')"
      ],
      "metadata": {
        "colab": {
          "base_uri": "https://localhost:8080/"
        },
        "id": "_65ido-YbbEm",
        "outputId": "603d0342-d90d-41fc-d4d1-dcacb8ac363a"
      },
      "execution_count": 73,
      "outputs": [
        {
          "output_type": "stream",
          "name": "stdout",
          "text": [
            "The calculated accuracy of this model  to predict the winner in second division games for the 2020-2021 season is: 44.0%\n"
          ]
        }
      ]
    },
    {
      "cell_type": "markdown",
      "source": [
        "**5- Calculating the accuracy of the model for the whole dataset:**\n",
        "\n",
        "Since we have calculated the accuracy of the data for each division, the full accuracy is the mean of calculated accuracy for each division."
      ],
      "metadata": {
        "id": "tM6ysAOaF6ik"
      }
    },
    {
      "cell_type": "code",
      "source": [
        "accuracy_20_21 = (accuracy_20_21_D1 + accuracy_20_21_D2)/2\n",
        "print(f\"Total model accuracy: {round(accuracy_20_21,2)*100}\")"
      ],
      "metadata": {
        "colab": {
          "base_uri": "https://localhost:8080/"
        },
        "id": "kpLWbH9xbdNE",
        "outputId": "8af4c6fa-183f-4044-d147-55e507ed3cfe"
      },
      "execution_count": 74,
      "outputs": [
        {
          "output_type": "stream",
          "name": "stdout",
          "text": [
            "Total model accuracy: 43.0\n"
          ]
        }
      ]
    },
    {
      "cell_type": "markdown",
      "source": [
        "**6- Good practice:**\n",
        "\n",
        "One of the things that we can check to know if our model is working correctly or not, is to try to use the predict function provided in our classifier, and to do so, we created a function called Match_result_prediction , and this function uses the data we have, taking the number of Hometeam and the away team and their ranking as features.\n",
        "\n",
        "The Winning prediction is shown in an example next using this function"
      ],
      "metadata": {
        "id": "chG7zGhzG3Ti"
      }
    },
    {
      "cell_type": "code",
      "source": [
        "def Match_result_prediction(division, matchday):  \n",
        "    season = '2020-2021' \n",
        "    \n",
        "    data = df[(df['season'] == season) & (df['division'] == division) & (df['matchday'] == matchday)]\n",
        "    features = data[['home_team_number', 'away_team_number', 'home_team_rank', 'away_team_rank']]\n",
        "    \n",
        "    if(division == 1): \n",
        "        data['winning_prediction'] = random_forest_model_D1.predict(features).astype(int)\n",
        "    \n",
        "    elif(division == 2): \n",
        "        data['winning_prediction'] = random_forest_model_D2.predict(features).astype(int)\n",
        "\n",
        "    data['winning_prediction'] = data.apply(lambda x: 'X' if x['winning_prediction'] == 1 else 1 if x['winning_prediction'] == 0 else x['winning_prediction'], axis = 1)\n",
        "    \n",
        "    for index, row in data.iterrows():\n",
        "        print(f\"{row['home_team']}  vs  {row['away_team']} --> {row['winning_prediction']} \")"
      ],
      "metadata": {
        "id": "57vAiKhfbfb3"
      },
      "execution_count": 75,
      "outputs": []
    },
    {
      "cell_type": "markdown",
      "source": [
        "**7- Example of the prediction function**:\n",
        "\n",
        "Here it will show us the prediction of the match results for the first division on the 38th match day"
      ],
      "metadata": {
        "id": "TPotu-u2JQ_t"
      }
    },
    {
      "cell_type": "code",
      "source": [
        "Match_result_prediction(1, 38)"
      ],
      "metadata": {
        "colab": {
          "base_uri": "https://localhost:8080/"
        },
        "id": "YHkrUVp0bhfU",
        "outputId": "5f0a1f51-4580-4727-de05-b993dca1cf5e"
      },
      "execution_count": 76,
      "outputs": [
        {
          "output_type": "stream",
          "name": "stdout",
          "text": [
            "Levante  vs  Cádiz CF --> 1 \n",
            "Celta de Vigo  vs  Real Betis --> 1 \n",
            "SD Eibar  vs  Barcelona --> X \n",
            "Elche CF  vs  Athletic --> 1 \n",
            "SD Huesca  vs  Valencia --> X \n",
            "CA Osasuna  vs  Real Sociedad --> X \n",
            "Real Madrid  vs  Villarreal --> 1 \n",
            "Real Valladolid  vs  Atlético Madrid --> X \n",
            "Granada CF  vs  Getafe --> 1 \n",
            "Sevilla FC  vs  Alavés --> 1 \n"
          ]
        }
      ]
    },
    {
      "cell_type": "markdown",
      "source": [
        "Since we have practiced out prediction on each division using our classifier, we will now try to get the winnings predictions for all matches for all divisions in this year, and since we have the actual results, it will help us distinguish and compare the accuracy of predictions and the real data so we can calculate total accuracy of the model for this dataset."
      ],
      "metadata": {
        "id": "eiCoil6NJ1gW"
      }
    },
    {
      "cell_type": "code",
      "source": [
        "df_20_21 = df[(df['season'] == '2020-2021')]\n",
        "df_20_21['winning_prediction'] = 0\n",
        "df_20_21['winning_prediction'] = df_20_21 ['winning_prediction'].astype(int)\n",
        "df_20_21['winning_prediction'] = df_20_21 .apply(lambda row: random_forest_model_D1.predict([[row['home_team_number'], row['away_team_number'], row['home_team_rank'], row['away_team_rank']]]) if row['division'] == 1 else random_forest_model_D2.predict([[row['home_team_number'], row['away_team_number'], row['home_team_rank'], row['away_team_rank']]]), axis=1)\n",
        "df_20_21['winning_prediction'] = df_20_21 ['winning_prediction'].astype(int)"
      ],
      "metadata": {
        "id": "VnKn-X5abl-l"
      },
      "execution_count": 77,
      "outputs": []
    },
    {
      "cell_type": "markdown",
      "source": [
        "**8- Feature Selection Organised:**\n",
        "\n",
        "Since we do not need all the columns presented in the data frame, we will create a new dataframe contains the following columns :\n",
        " \n",
        "\"season, division, matchday, home_team, away_team, winner, winning prediction\".\n",
        "\n",
        "and then we will claculate the accuracy of this model and put it into a new column called accuracy in this data frame by comparing the winner column with the winning predition column"
      ],
      "metadata": {
        "id": "LtjFmJySLDJM"
      }
    },
    {
      "cell_type": "code",
      "source": [
        "df_20_21 = df_20_21[['season', 'division', 'matchday', 'home_team', 'away_team', 'winner', 'winning_prediction']]\n",
        "df_20_21['accuracy'] = df_20_21['winner'] == df_20_21['winning_prediction']\n",
        "df_20_21"
      ],
      "metadata": {
        "colab": {
          "base_uri": "https://localhost:8080/",
          "height": 424
        },
        "id": "1WaaujIrK_xr",
        "outputId": "2776cd1a-a65b-47c1-972c-c05629594e89"
      },
      "execution_count": 78,
      "outputs": [
        {
          "output_type": "execute_result",
          "data": {
            "text/plain": [
              "          season  division  matchday        home_team      away_team  winner  \\\n",
              "25678  2020-2021         1         1         SD Eibar  Celta de Vigo       1   \n",
              "25679  2020-2021         1         1       Granada CF       Athletic       0   \n",
              "25680  2020-2021         1         1         Cádiz CF     CA Osasuna       2   \n",
              "25681  2020-2021         1         1           Alavés     Real Betis       2   \n",
              "25682  2020-2021         1         1  Real Valladolid  Real Sociedad       1   \n",
              "...          ...       ...       ...              ...            ...     ...   \n",
              "48173  2020-2021         2        42      CD Mirandés   CE Sabadell        2   \n",
              "48174  2020-2021         2        42     Ponferradina   RCD Mallorca       1   \n",
              "48175  2020-2021         2        42   Rayo Vallecano        CD Lugo       2   \n",
              "48176  2020-2021         2        42    Real Zaragoza     CD Leganés       2   \n",
              "48177  2020-2021         2        42   Sporting Gijón     UD Almería       2   \n",
              "\n",
              "       winning_prediction  accuracy  \n",
              "25678                   0     False  \n",
              "25679                   0      True  \n",
              "25680                   1     False  \n",
              "25681                   1     False  \n",
              "25682                   0     False  \n",
              "...                   ...       ...  \n",
              "48173                   0     False  \n",
              "48174                   0     False  \n",
              "48175                   0     False  \n",
              "48176                   1     False  \n",
              "48177                   0     False  \n",
              "\n",
              "[841 rows x 8 columns]"
            ],
            "text/html": [
              "\n",
              "  <div id=\"df-1722d2a6-ee63-4d01-8245-5c7a51a1839e\">\n",
              "    <div class=\"colab-df-container\">\n",
              "      <div>\n",
              "<style scoped>\n",
              "    .dataframe tbody tr th:only-of-type {\n",
              "        vertical-align: middle;\n",
              "    }\n",
              "\n",
              "    .dataframe tbody tr th {\n",
              "        vertical-align: top;\n",
              "    }\n",
              "\n",
              "    .dataframe thead th {\n",
              "        text-align: right;\n",
              "    }\n",
              "</style>\n",
              "<table border=\"1\" class=\"dataframe\">\n",
              "  <thead>\n",
              "    <tr style=\"text-align: right;\">\n",
              "      <th></th>\n",
              "      <th>season</th>\n",
              "      <th>division</th>\n",
              "      <th>matchday</th>\n",
              "      <th>home_team</th>\n",
              "      <th>away_team</th>\n",
              "      <th>winner</th>\n",
              "      <th>winning_prediction</th>\n",
              "      <th>accuracy</th>\n",
              "    </tr>\n",
              "  </thead>\n",
              "  <tbody>\n",
              "    <tr>\n",
              "      <th>25678</th>\n",
              "      <td>2020-2021</td>\n",
              "      <td>1</td>\n",
              "      <td>1</td>\n",
              "      <td>SD Eibar</td>\n",
              "      <td>Celta de Vigo</td>\n",
              "      <td>1</td>\n",
              "      <td>0</td>\n",
              "      <td>False</td>\n",
              "    </tr>\n",
              "    <tr>\n",
              "      <th>25679</th>\n",
              "      <td>2020-2021</td>\n",
              "      <td>1</td>\n",
              "      <td>1</td>\n",
              "      <td>Granada CF</td>\n",
              "      <td>Athletic</td>\n",
              "      <td>0</td>\n",
              "      <td>0</td>\n",
              "      <td>True</td>\n",
              "    </tr>\n",
              "    <tr>\n",
              "      <th>25680</th>\n",
              "      <td>2020-2021</td>\n",
              "      <td>1</td>\n",
              "      <td>1</td>\n",
              "      <td>Cádiz CF</td>\n",
              "      <td>CA Osasuna</td>\n",
              "      <td>2</td>\n",
              "      <td>1</td>\n",
              "      <td>False</td>\n",
              "    </tr>\n",
              "    <tr>\n",
              "      <th>25681</th>\n",
              "      <td>2020-2021</td>\n",
              "      <td>1</td>\n",
              "      <td>1</td>\n",
              "      <td>Alavés</td>\n",
              "      <td>Real Betis</td>\n",
              "      <td>2</td>\n",
              "      <td>1</td>\n",
              "      <td>False</td>\n",
              "    </tr>\n",
              "    <tr>\n",
              "      <th>25682</th>\n",
              "      <td>2020-2021</td>\n",
              "      <td>1</td>\n",
              "      <td>1</td>\n",
              "      <td>Real Valladolid</td>\n",
              "      <td>Real Sociedad</td>\n",
              "      <td>1</td>\n",
              "      <td>0</td>\n",
              "      <td>False</td>\n",
              "    </tr>\n",
              "    <tr>\n",
              "      <th>...</th>\n",
              "      <td>...</td>\n",
              "      <td>...</td>\n",
              "      <td>...</td>\n",
              "      <td>...</td>\n",
              "      <td>...</td>\n",
              "      <td>...</td>\n",
              "      <td>...</td>\n",
              "      <td>...</td>\n",
              "    </tr>\n",
              "    <tr>\n",
              "      <th>48173</th>\n",
              "      <td>2020-2021</td>\n",
              "      <td>2</td>\n",
              "      <td>42</td>\n",
              "      <td>CD Mirandés</td>\n",
              "      <td>CE Sabadell</td>\n",
              "      <td>2</td>\n",
              "      <td>0</td>\n",
              "      <td>False</td>\n",
              "    </tr>\n",
              "    <tr>\n",
              "      <th>48174</th>\n",
              "      <td>2020-2021</td>\n",
              "      <td>2</td>\n",
              "      <td>42</td>\n",
              "      <td>Ponferradina</td>\n",
              "      <td>RCD Mallorca</td>\n",
              "      <td>1</td>\n",
              "      <td>0</td>\n",
              "      <td>False</td>\n",
              "    </tr>\n",
              "    <tr>\n",
              "      <th>48175</th>\n",
              "      <td>2020-2021</td>\n",
              "      <td>2</td>\n",
              "      <td>42</td>\n",
              "      <td>Rayo Vallecano</td>\n",
              "      <td>CD Lugo</td>\n",
              "      <td>2</td>\n",
              "      <td>0</td>\n",
              "      <td>False</td>\n",
              "    </tr>\n",
              "    <tr>\n",
              "      <th>48176</th>\n",
              "      <td>2020-2021</td>\n",
              "      <td>2</td>\n",
              "      <td>42</td>\n",
              "      <td>Real Zaragoza</td>\n",
              "      <td>CD Leganés</td>\n",
              "      <td>2</td>\n",
              "      <td>1</td>\n",
              "      <td>False</td>\n",
              "    </tr>\n",
              "    <tr>\n",
              "      <th>48177</th>\n",
              "      <td>2020-2021</td>\n",
              "      <td>2</td>\n",
              "      <td>42</td>\n",
              "      <td>Sporting Gijón</td>\n",
              "      <td>UD Almería</td>\n",
              "      <td>2</td>\n",
              "      <td>0</td>\n",
              "      <td>False</td>\n",
              "    </tr>\n",
              "  </tbody>\n",
              "</table>\n",
              "<p>841 rows × 8 columns</p>\n",
              "</div>\n",
              "      <button class=\"colab-df-convert\" onclick=\"convertToInteractive('df-1722d2a6-ee63-4d01-8245-5c7a51a1839e')\"\n",
              "              title=\"Convert this dataframe to an interactive table.\"\n",
              "              style=\"display:none;\">\n",
              "        \n",
              "  <svg xmlns=\"http://www.w3.org/2000/svg\" height=\"24px\"viewBox=\"0 0 24 24\"\n",
              "       width=\"24px\">\n",
              "    <path d=\"M0 0h24v24H0V0z\" fill=\"none\"/>\n",
              "    <path d=\"M18.56 5.44l.94 2.06.94-2.06 2.06-.94-2.06-.94-.94-2.06-.94 2.06-2.06.94zm-11 1L8.5 8.5l.94-2.06 2.06-.94-2.06-.94L8.5 2.5l-.94 2.06-2.06.94zm10 10l.94 2.06.94-2.06 2.06-.94-2.06-.94-.94-2.06-.94 2.06-2.06.94z\"/><path d=\"M17.41 7.96l-1.37-1.37c-.4-.4-.92-.59-1.43-.59-.52 0-1.04.2-1.43.59L10.3 9.45l-7.72 7.72c-.78.78-.78 2.05 0 2.83L4 21.41c.39.39.9.59 1.41.59.51 0 1.02-.2 1.41-.59l7.78-7.78 2.81-2.81c.8-.78.8-2.07 0-2.86zM5.41 20L4 18.59l7.72-7.72 1.47 1.35L5.41 20z\"/>\n",
              "  </svg>\n",
              "      </button>\n",
              "      \n",
              "  <style>\n",
              "    .colab-df-container {\n",
              "      display:flex;\n",
              "      flex-wrap:wrap;\n",
              "      gap: 12px;\n",
              "    }\n",
              "\n",
              "    .colab-df-convert {\n",
              "      background-color: #E8F0FE;\n",
              "      border: none;\n",
              "      border-radius: 50%;\n",
              "      cursor: pointer;\n",
              "      display: none;\n",
              "      fill: #1967D2;\n",
              "      height: 32px;\n",
              "      padding: 0 0 0 0;\n",
              "      width: 32px;\n",
              "    }\n",
              "\n",
              "    .colab-df-convert:hover {\n",
              "      background-color: #E2EBFA;\n",
              "      box-shadow: 0px 1px 2px rgba(60, 64, 67, 0.3), 0px 1px 3px 1px rgba(60, 64, 67, 0.15);\n",
              "      fill: #174EA6;\n",
              "    }\n",
              "\n",
              "    [theme=dark] .colab-df-convert {\n",
              "      background-color: #3B4455;\n",
              "      fill: #D2E3FC;\n",
              "    }\n",
              "\n",
              "    [theme=dark] .colab-df-convert:hover {\n",
              "      background-color: #434B5C;\n",
              "      box-shadow: 0px 1px 3px 1px rgba(0, 0, 0, 0.15);\n",
              "      filter: drop-shadow(0px 1px 2px rgba(0, 0, 0, 0.3));\n",
              "      fill: #FFFFFF;\n",
              "    }\n",
              "  </style>\n",
              "\n",
              "      <script>\n",
              "        const buttonEl =\n",
              "          document.querySelector('#df-1722d2a6-ee63-4d01-8245-5c7a51a1839e button.colab-df-convert');\n",
              "        buttonEl.style.display =\n",
              "          google.colab.kernel.accessAllowed ? 'block' : 'none';\n",
              "\n",
              "        async function convertToInteractive(key) {\n",
              "          const element = document.querySelector('#df-1722d2a6-ee63-4d01-8245-5c7a51a1839e');\n",
              "          const dataTable =\n",
              "            await google.colab.kernel.invokeFunction('convertToInteractive',\n",
              "                                                     [key], {});\n",
              "          if (!dataTable) return;\n",
              "\n",
              "          const docLinkHtml = 'Like what you see? Visit the ' +\n",
              "            '<a target=\"_blank\" href=https://colab.research.google.com/notebooks/data_table.ipynb>data table notebook</a>'\n",
              "            + ' to learn more about interactive tables.';\n",
              "          element.innerHTML = '';\n",
              "          dataTable['output_type'] = 'display_data';\n",
              "          await google.colab.output.renderOutput(dataTable, element);\n",
              "          const docLink = document.createElement('div');\n",
              "          docLink.innerHTML = docLinkHtml;\n",
              "          element.appendChild(docLink);\n",
              "        }\n",
              "      </script>\n",
              "    </div>\n",
              "  </div>\n",
              "  "
            ]
          },
          "metadata": {},
          "execution_count": 78
        }
      ]
    },
    {
      "cell_type": "markdown",
      "source": [
        "**9- Difference and accuracy between real data and our model:**\n",
        "\n",
        "So far, we have three results, either home_team wins, or away_team wins, or there is a Tie, for each state of these ouputs, we need to calculate the accuracy level between real data and our prediction to make sure our model can be considered fitted and good."
      ],
      "metadata": {
        "id": "-LRjOmGaMCdu"
      }
    },
    {
      "cell_type": "markdown",
      "source": [
        "**home_team winning accuracy prediction:**\n",
        "\n",
        "First, we will calculate the real accuracy of the home team winning the match by dividing the prediction of home team winning correctly on the number of times of home team winning actually "
      ],
      "metadata": {
        "id": "bGev95cXMrkc"
      }
    },
    {
      "cell_type": "code",
      "source": [
        "prediction_win_home= df_20_21['winning_prediction'].value_counts()[0]\n",
        "real_win_home = df_20_21['winner'].value_counts()[0]\n",
        "accurate_win_home = df_20_21[(df_20_21['winner'] == 0) & (df_20_21['winning_prediction'] == 0)]['winning_prediction'].count()\n",
        "prediction_accuracy_home_win = (prediction_win_home / real_win_home) * 100\n",
        "real_accuracy_home_win = (accurate_win_home/ real_win_home) * 100"
      ],
      "metadata": {
        "id": "gwWyQ2byMm-L"
      },
      "execution_count": 79,
      "outputs": []
    },
    {
      "cell_type": "markdown",
      "source": [
        "**Accuracy prediction of having a Tie in the game**:\n",
        "we will count the total number of ties predicted, along with counting the actual real number of ties that happened in the match during this match day, and then calculating the precentage of the accuracy of the model for predicting that a Tie happened."
      ],
      "metadata": {
        "id": "EPSEOOaNNO7D"
      }
    },
    {
      "cell_type": "code",
      "source": [
        "predcition_tie = df_20_21['winning_prediction'].value_counts()[1]\n",
        "real_tie = df_20_21['winner'].value_counts()[1]\n",
        "accurate_tie = df_20_21[(df_20_21['winner'] == 1) & (df_20_21['winning_prediction'] == 1)]['winning_prediction'].count()\n",
        "prediction_accuracy_tie = (predcition_tie / real_tie) * 100\n",
        "real_accuracy_tie = (accurate_tie / real_tie) * 100"
      ],
      "metadata": {
        "id": "wv5zaoeuMmni"
      },
      "execution_count": 80,
      "outputs": []
    },
    {
      "cell_type": "markdown",
      "source": [
        "**Accuracy prediction if away_team wins**:\n",
        "here we have calculated the real number of rows where the away team was the winner, and also calculated the prediction of the away team winning, from the winning prediction column, then we calculated the accuracy of the preidction and the precentage compared to the real data.\n"
      ],
      "metadata": {
        "id": "_v2WkEOXN87-"
      }
    },
    {
      "cell_type": "code",
      "source": [
        "prediction_win_away = df_20_21['winning_prediction'].value_counts()[2]\n",
        "real_win_away = df_20_21['winner'].value_counts()[2]\n",
        "accurate_win_away = df_20_21[(df_20_21['winner'] == 2) & (df_20_21['winning_prediction'] == 2)]['winning_prediction'].count()\n",
        "prediction_accuracy_away_win = (prediction_win_away / real_win_away) * 100\n",
        "real_accuracy_away_win = (accurate_win_away / real_win_away) * 100"
      ],
      "metadata": {
        "id": "xfCkjQ6Cbrp5"
      },
      "execution_count": 81,
      "outputs": []
    },
    {
      "cell_type": "markdown",
      "source": [
        "**10- Accuracy of our model in terms of predictions**:\n",
        "\n",
        "Here we can see after calculating the realtionship between the real data we have and the predictions we got from our random forest classifier, the total accuracy and divided down accuracy for each team whether it is home team or away team can be calculated and it can be considered as a fine result."
      ],
      "metadata": {
        "id": "V-52fyqxPBVE"
      }
    },
    {
      "cell_type": "code",
      "source": [
        "print(f\"Accuracy prediction in case Home team wins : {round(real_accuracy_home_win, 2)}%\")\n",
        "print(f\"Accuracy prediction in case away team wins : {round(real_accuracy_away_win, 2)}%\")\n",
        "print(f\"Accuracy prediction in case there is a tie : {round(real_accuracy_tie, 2)}%\")\n",
        "\n",
        "print(f\"Final Accuracy of the model in total: {round(accuracy_20_21,2)*100}%\")"
      ],
      "metadata": {
        "colab": {
          "base_uri": "https://localhost:8080/"
        },
        "id": "2mvWrB1sbvaF",
        "outputId": "09adecf4-6ee8-4b0b-ab2d-b1d23a579cd9"
      },
      "execution_count": 82,
      "outputs": [
        {
          "output_type": "stream",
          "name": "stdout",
          "text": [
            "Accuracy prediction in case Home team wins : 80.11%\n",
            "Accuracy prediction in case away team wins : 0.41%\n",
            "Accuracy prediction in case there is a tie : 31.54%\n",
            "Final Accuracy of the model in total: 43.0%\n"
          ]
        }
      ]
    },
    {
      "cell_type": "markdown",
      "source": [
        "**Results and Conclusions:**\n",
        "\n",
        "Looking Back at our model, using a classifier to predict this type of questions is very helpful, using the Random Forest Machine Learning Model, we got an accuracy rate of almost 43%, with a percentage of 80 % to home team accuracy and almost 32% for predicting a tie, and this can be considered as a good result for a classifier in a challenging topic like football match "
      ],
      "metadata": {
        "id": "ARa9ZveIPitX"
      }
    },
    {
      "cell_type": "markdown",
      "source": [],
      "metadata": {
        "id": "eNjdhZd-QP3R"
      }
    }
  ]
}